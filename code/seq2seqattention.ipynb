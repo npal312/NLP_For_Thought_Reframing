{
 "cells": [
  {
   "cell_type": "markdown",
   "id": "328f4acf",
   "metadata": {
    "papermill": {
     "duration": 0.004431,
     "end_time": "2025-05-05T07:48:18.081990",
     "exception": false,
     "start_time": "2025-05-05T07:48:18.077559",
     "status": "completed"
    },
    "tags": []
   },
   "source": [
    "**imports**"
   ]
  },
  {
   "cell_type": "code",
   "execution_count": 1,
   "id": "c4351042",
   "metadata": {
    "_cell_guid": "b1076dfc-b9ad-4769-8c92-a6c4dae69d19",
    "_uuid": "8f2839f25d086af736a60e9eeb907d3b93b6e0e5",
    "execution": {
     "iopub.execute_input": "2025-05-05T07:48:18.090407Z",
     "iopub.status.busy": "2025-05-05T07:48:18.090123Z",
     "iopub.status.idle": "2025-05-05T07:48:24.763011Z",
     "shell.execute_reply": "2025-05-05T07:48:24.762097Z"
    },
    "papermill": {
     "duration": 6.678858,
     "end_time": "2025-05-05T07:48:24.764612",
     "exception": false,
     "start_time": "2025-05-05T07:48:18.085754",
     "status": "completed"
    },
    "tags": []
   },
   "outputs": [],
   "source": [
    "import os\n",
    "import time\n",
    "import nltk\n",
    "from nltk.tokenize import word_tokenize\n",
    "import torch\n",
    "import torch.nn as nn\n",
    "from torch.nn.utils.rnn import pad_sequence\n",
    "from torch.utils.data import Dataset, DataLoader\n",
    "import numpy as np\n",
    "import pandas as pd\n",
    "import random"
   ]
  },
  {
   "cell_type": "markdown",
   "id": "7790fecc",
   "metadata": {
    "papermill": {
     "duration": 0.003466,
     "end_time": "2025-05-05T07:48:24.772062",
     "exception": false,
     "start_time": "2025-05-05T07:48:24.768596",
     "status": "completed"
    },
    "tags": []
   },
   "source": [
    "# Data Preprocessing/Model Preparations/Helper Functions"
   ]
  },
  {
   "cell_type": "code",
   "execution_count": 2,
   "id": "a3ff7d24",
   "metadata": {
    "execution": {
     "iopub.execute_input": "2025-05-05T07:48:24.780151Z",
     "iopub.status.busy": "2025-05-05T07:48:24.779789Z",
     "iopub.status.idle": "2025-05-05T07:48:24.877649Z",
     "shell.execute_reply": "2025-05-05T07:48:24.876776Z"
    },
    "papermill": {
     "duration": 0.10331,
     "end_time": "2025-05-05T07:48:24.878857",
     "exception": false,
     "start_time": "2025-05-05T07:48:24.775547",
     "status": "completed"
    },
    "tags": []
   },
   "outputs": [
    {
     "name": "stderr",
     "output_type": "stream",
     "text": [
      "[nltk_data] Downloading package punkt to /usr/share/nltk_data...\n",
      "[nltk_data]   Package punkt is already up-to-date!\n"
     ]
    },
    {
     "data": {
      "text/plain": [
       "True"
      ]
     },
     "execution_count": 2,
     "metadata": {},
     "output_type": "execute_result"
    }
   ],
   "source": [
    "#download Punkt tokenizer data - necessary for sentence tokenization, which word_tokenize needs\n",
    "nltk.download(\"punkt\")"
   ]
  },
  {
   "cell_type": "code",
   "execution_count": 3,
   "id": "a954d692",
   "metadata": {
    "execution": {
     "iopub.execute_input": "2025-05-05T07:48:24.887594Z",
     "iopub.status.busy": "2025-05-05T07:48:24.887351Z",
     "iopub.status.idle": "2025-05-05T07:48:24.891537Z",
     "shell.execute_reply": "2025-05-05T07:48:24.890971Z"
    },
    "papermill": {
     "duration": 0.009759,
     "end_time": "2025-05-05T07:48:24.892673",
     "exception": false,
     "start_time": "2025-05-05T07:48:24.882914",
     "status": "completed"
    },
    "tags": []
   },
   "outputs": [],
   "source": [
    "#define hyperparams\n",
    "BATCH_SIZE = 64 #good batch size for this task (raised to use more GPU and less CPU)\n",
    "EMBED_SIZE = 256 #large enough for capturing word relationships but not too much to overfit\n",
    "HIDDEN_SIZE = 512 #same here\n",
    "EPOCHS = 20 #high number of epochs to ensure model trains well, will implement early stopping to counteract\n",
    "PATIENCE = 3 #amount of epochs to wait for until early stop - good val, considering total epoch num\n",
    "MAX_LEN = 60 #fits all data in dataset without truncating\n",
    "PAD_VAL = 2 #for designating what id pad_token is (used in pad batch and cross entropy loss) #maybe make when vocab made\n",
    "DROPOUT_RATE = 0.5 #to avoid overfitting\n",
    "LEARNING_RATE = 0.0001 #10x below initial Adam optimizer learning rate (initial test showed valid loss stagnate by epoch 4, hopefully this makes it better)\n",
    "#teacher forcing - gives true prev token as input to model at specified timesteps to help with learning and avoid errors chaining\n",
    "TEACHER_FORCING_RATIO = 0.5 #50% chance true token will be used vs model's prev prediction (so not always learning from either one)\n",
    "RANDOM = 213 #random state for reproducibility (I like using this num)"
   ]
  },
  {
   "cell_type": "code",
   "execution_count": 4,
   "id": "d89c5b51",
   "metadata": {
    "execution": {
     "iopub.execute_input": "2025-05-05T07:48:24.900969Z",
     "iopub.status.busy": "2025-05-05T07:48:24.900747Z",
     "iopub.status.idle": "2025-05-05T07:48:24.908426Z",
     "shell.execute_reply": "2025-05-05T07:48:24.907841Z"
    },
    "papermill": {
     "duration": 0.013023,
     "end_time": "2025-05-05T07:48:24.909502",
     "exception": false,
     "start_time": "2025-05-05T07:48:24.896479",
     "status": "completed"
    },
    "tags": []
   },
   "outputs": [],
   "source": [
    "#randomness\n",
    "random.seed(RANDOM)\n",
    "torch.manual_seed(RANDOM) #remove for non-deterministic\n",
    "np.random.seed(RANDOM)\n",
    "torch.backends.cudnn.deterministic = True #ensures GPU operations are deterministic (only for training)\n",
    "torch.backends.cudnn.benchmark = False #disables auto-tuning of algorithms (ensures more reproducibility)"
   ]
  },
  {
   "cell_type": "code",
   "execution_count": 5,
   "id": "51f1cefb",
   "metadata": {
    "execution": {
     "iopub.execute_input": "2025-05-05T07:48:24.917603Z",
     "iopub.status.busy": "2025-05-05T07:48:24.917384Z",
     "iopub.status.idle": "2025-05-05T07:48:24.985709Z",
     "shell.execute_reply": "2025-05-05T07:48:24.985072Z"
    },
    "papermill": {
     "duration": 0.073623,
     "end_time": "2025-05-05T07:48:24.986829",
     "exception": false,
     "start_time": "2025-05-05T07:48:24.913206",
     "status": "completed"
    },
    "tags": []
   },
   "outputs": [],
   "source": [
    "#load GPU\n",
    "device = torch.device(\"cuda\" if torch.cuda.is_available() else \"cpu\")\n",
    "#make directory to save final model\n",
    "final_dir = \"./final/seq2seq\"\n",
    "os.makedirs(final_dir, exist_ok=True)\n",
    "#make directory to save final data\n",
    "model_outputs_dir = \"./model_outputs\"\n",
    "os.makedirs(model_outputs_dir, exist_ok=True)\n",
    "\n",
    "#init special tokens - no mask tokens needed\n",
    "sos_token = \"<s>\"\n",
    "eos_token = \"</s>\"\n",
    "pad_token = \"<pad>\"\n",
    "unk_token = \"<unk>\""
   ]
  },
  {
   "cell_type": "code",
   "execution_count": 6,
   "id": "290e08ca",
   "metadata": {
    "execution": {
     "iopub.execute_input": "2025-05-05T07:48:24.995198Z",
     "iopub.status.busy": "2025-05-05T07:48:24.994966Z",
     "iopub.status.idle": "2025-05-05T07:48:24.998433Z",
     "shell.execute_reply": "2025-05-05T07:48:24.997876Z"
    },
    "papermill": {
     "duration": 0.008878,
     "end_time": "2025-05-05T07:48:24.999599",
     "exception": false,
     "start_time": "2025-05-05T07:48:24.990721",
     "status": "completed"
    },
    "tags": []
   },
   "outputs": [],
   "source": [
    "#tokenize words w/ word_tokenize from nltk (handles punctuation & numbers properly (as separate tokens, good for natural text gen))\n",
    "def tokenize(text):\n",
    "    return word_tokenize(text.lower()) #bc of above, only making lowercase is needed (contractions were removed, so won't be an issue)"
   ]
  },
  {
   "cell_type": "code",
   "execution_count": 7,
   "id": "1128c1bc",
   "metadata": {
    "execution": {
     "iopub.execute_input": "2025-05-05T07:48:25.007739Z",
     "iopub.status.busy": "2025-05-05T07:48:25.007562Z",
     "iopub.status.idle": "2025-05-05T07:48:25.011287Z",
     "shell.execute_reply": "2025-05-05T07:48:25.010765Z"
    },
    "papermill": {
     "duration": 0.009025,
     "end_time": "2025-05-05T07:48:25.012318",
     "exception": false,
     "start_time": "2025-05-05T07:48:25.003293",
     "status": "completed"
    },
    "tags": []
   },
   "outputs": [],
   "source": [
    "#build vocab with every word encountered so no loss in generation ability (unknown tokens would make it difficult)\n",
    "def build_vocab(sentences):\n",
    "    #init with special tokens\n",
    "    vocab = {sos_token: 0, eos_token: 1, pad_token: 2, unk_token: 3}\n",
    "    \n",
    "    #iterate through all tokenized sentences\n",
    "    for sent in sentences:\n",
    "        for word in tokenize(sent):\n",
    "            if word not in vocab:\n",
    "                vocab[word] = len(vocab) #add to vocab with new id\n",
    "                \n",
    "    return vocab"
   ]
  },
  {
   "cell_type": "code",
   "execution_count": 8,
   "id": "8f16b753",
   "metadata": {
    "execution": {
     "iopub.execute_input": "2025-05-05T07:48:25.020434Z",
     "iopub.status.busy": "2025-05-05T07:48:25.020205Z",
     "iopub.status.idle": "2025-05-05T07:48:25.023903Z",
     "shell.execute_reply": "2025-05-05T07:48:25.023198Z"
    },
    "papermill": {
     "duration": 0.008899,
     "end_time": "2025-05-05T07:48:25.024949",
     "exception": false,
     "start_time": "2025-05-05T07:48:25.016050",
     "status": "completed"
    },
    "tags": []
   },
   "outputs": [],
   "source": [
    "#assign tokens to ids in sentences using vocab\n",
    "def token_to_ids(sentence, vocab):\n",
    "    #replace with <unk> if not in vocab, else id\n",
    "    return [vocab.get(word, vocab[unk_token]) for word in tokenize(sentence)]"
   ]
  },
  {
   "cell_type": "code",
   "execution_count": 9,
   "id": "b98e268f",
   "metadata": {
    "execution": {
     "iopub.execute_input": "2025-05-05T07:48:25.032935Z",
     "iopub.status.busy": "2025-05-05T07:48:25.032589Z",
     "iopub.status.idle": "2025-05-05T07:48:25.037697Z",
     "shell.execute_reply": "2025-05-05T07:48:25.037176Z"
    },
    "papermill": {
     "duration": 0.010125,
     "end_time": "2025-05-05T07:48:25.038681",
     "exception": false,
     "start_time": "2025-05-05T07:48:25.028556",
     "status": "completed"
    },
    "tags": []
   },
   "outputs": [],
   "source": [
    "#put data in custom dataset so it works with DataLoader (won't work with anything without __len__ and __getitem__)\n",
    "class ThoughtDataset(Dataset):\n",
    "    def __init__(self, df, src_vocab, tgt_vocab):\n",
    "\n",
    "        self.df = df.reset_index(drop=False) #stores original row indices\n",
    "        #make input_output pairs\n",
    "        self.pairs = list(zip(df[\"negative_thought\"], df[\"reframed_thought\"]))\n",
    "        self.src_vocab = src_vocab\n",
    "        self.tgt_vocab = tgt_vocab\n",
    "\n",
    "    \n",
    "    def __len__(self):\n",
    "        return len(self.pairs)\n",
    "\n",
    "    \n",
    "    def __getitem__(self, idx):\n",
    "        src, tgt = self.pairs[idx]\n",
    "        index = self.df.loc[idx, \"index\"] #get preserved index\n",
    "        \n",
    "        #get tokens\n",
    "        src_tokens = token_to_ids(src, self.src_vocab)\n",
    "        tgt_tokens = [self.tgt_vocab[sos_token]] + token_to_ids(tgt, self.tgt_vocab) + [self.tgt_vocab[eos_token]]\n",
    "        \n",
    "        #make into pytorch tensors, send to GPU\n",
    "        return torch.tensor(src_tokens).to(device), torch.tensor(tgt_tokens).to(device), index"
   ]
  },
  {
   "cell_type": "code",
   "execution_count": 10,
   "id": "ffc84619",
   "metadata": {
    "execution": {
     "iopub.execute_input": "2025-05-05T07:48:25.046892Z",
     "iopub.status.busy": "2025-05-05T07:48:25.046528Z",
     "iopub.status.idle": "2025-05-05T07:48:25.050257Z",
     "shell.execute_reply": "2025-05-05T07:48:25.049652Z"
    },
    "papermill": {
     "duration": 0.009067,
     "end_time": "2025-05-05T07:48:25.051410",
     "exception": false,
     "start_time": "2025-05-05T07:48:25.042343",
     "status": "completed"
    },
    "tags": []
   },
   "outputs": [],
   "source": [
    "#pad batches to make same size (use as collate function)\n",
    "def pad_batch(batch):\n",
    "    src_batch, tgt_batch, indices_batch = zip(*batch)\n",
    "    \n",
    "    #use pad sequence - finds longest sequence in batch to automatically pad to\n",
    "    src_batch = pad_sequence(src_batch, padding_value=PAD_VAL, batch_first=True)\n",
    "    tgt_batch = pad_sequence(tgt_batch, padding_value=PAD_VAL, batch_first=True)\n",
    "    \n",
    "    return src_batch.to(device), tgt_batch.to(device), indices_batch"
   ]
  },
  {
   "cell_type": "code",
   "execution_count": 11,
   "id": "1d80f803",
   "metadata": {
    "execution": {
     "iopub.execute_input": "2025-05-05T07:48:25.059624Z",
     "iopub.status.busy": "2025-05-05T07:48:25.059433Z",
     "iopub.status.idle": "2025-05-05T07:48:25.063831Z",
     "shell.execute_reply": "2025-05-05T07:48:25.063310Z"
    },
    "papermill": {
     "duration": 0.00942,
     "end_time": "2025-05-05T07:48:25.064794",
     "exception": false,
     "start_time": "2025-05-05T07:48:25.055374",
     "status": "completed"
    },
    "tags": []
   },
   "outputs": [],
   "source": [
    "#encoder class (pytorch)\n",
    "class Encoder(nn.Module):\n",
    "    def __init__(self, input_dim, embedding_dim, hidden_dim):\n",
    "        super().__init__()\n",
    "        \n",
    "        #embedding layer\n",
    "        self.embedding = nn.Embedding(input_dim, embedding_dim, padding_idx=PAD_VAL)\n",
    "        \n",
    "        #gru time\n",
    "        self.gru = nn.GRU(embedding_dim, hidden_dim, batch_first=True)\n",
    "\n",
    "    \n",
    "    #call function (uses forward for pytorch methods)\n",
    "    def forward(self, src):\n",
    "        \n",
    "        #get embeddings\n",
    "        embed = self.embedding(src)\n",
    "        \n",
    "        #do gru\n",
    "        enc_outputs, hidden_state = self.gru(embed)\n",
    "        \n",
    "        return enc_outputs, hidden_state"
   ]
  },
  {
   "cell_type": "code",
   "execution_count": 12,
   "id": "43954210",
   "metadata": {
    "execution": {
     "iopub.execute_input": "2025-05-05T07:48:25.072629Z",
     "iopub.status.busy": "2025-05-05T07:48:25.072424Z",
     "iopub.status.idle": "2025-05-05T07:48:25.077468Z",
     "shell.execute_reply": "2025-05-05T07:48:25.076784Z"
    },
    "papermill": {
     "duration": 0.01013,
     "end_time": "2025-05-05T07:48:25.078504",
     "exception": false,
     "start_time": "2025-05-05T07:48:25.068374",
     "status": "completed"
    },
    "tags": []
   },
   "outputs": [],
   "source": [
    "#attention - specifically additive (or bahdanau) attention class (pytorch)\n",
    "class Attention(nn.Module):\n",
    "    def __init__(self, hidden_dim):\n",
    "        super().__init__()\n",
    "\n",
    "        #attention linear layer - concatenates decoder hidden state and enc_output\n",
    "        self.attn = nn.Linear(hidden_dim * 2, hidden_dim)\n",
    "        \n",
    "        #linear layer that outputs scalar - computes score (or \"energy\") for each position in enc_output's sequence\n",
    "        self.v = nn.Linear(hidden_dim, 1, bias=False)\n",
    "\n",
    "    \n",
    "    def forward(self, hidden_state, enc_outputs):\n",
    "\n",
    "        #init\n",
    "        batch_size = enc_outputs.size(0)\n",
    "        src_len = enc_outputs.size(1)\n",
    "\n",
    "        #repeating hidden state for attention calc (add extra dim for score calc)\n",
    "        hidden_state = hidden_state.unsqueeze(1).repeat(1, src_len, 1)\n",
    "        \n",
    "        #score time (non-linear transformat to attention layer, which gets hidden state and enc_output concat)\n",
    "        score = torch.tanh(self.attn(torch.cat((hidden_state, enc_outputs), dim=2)))\n",
    "        \n",
    "        #get attention score (scalar) for each position in src sequence\n",
    "        attention = self.v(score).squeeze(2)\n",
    "        \n",
    "        #get attention weights - prob dist from softmax\n",
    "        attn_weights = torch.softmax(attention, dim=1)\n",
    "\n",
    "        return attn_weights"
   ]
  },
  {
   "cell_type": "code",
   "execution_count": 13,
   "id": "8e8a700f",
   "metadata": {
    "execution": {
     "iopub.execute_input": "2025-05-05T07:48:25.086378Z",
     "iopub.status.busy": "2025-05-05T07:48:25.086169Z",
     "iopub.status.idle": "2025-05-05T07:48:25.092189Z",
     "shell.execute_reply": "2025-05-05T07:48:25.091532Z"
    },
    "papermill": {
     "duration": 0.011311,
     "end_time": "2025-05-05T07:48:25.093322",
     "exception": false,
     "start_time": "2025-05-05T07:48:25.082011",
     "status": "completed"
    },
    "tags": []
   },
   "outputs": [],
   "source": [
    "#decoder class (pytorch)\n",
    "class Decoder(nn.Module):\n",
    "    def __init__(self, output_dim, embedding_dim, hidden_dim, attention):\n",
    "        super().__init__()\n",
    "        \n",
    "        #init\n",
    "        self.output_dim = output_dim\n",
    "        self.attention = attention\n",
    "        \n",
    "        #embedding\n",
    "        self.embedding = nn.Embedding(output_dim, embedding_dim, padding_idx=PAD_VAL)\n",
    "        \n",
    "        #gru\n",
    "        self.gru = nn.GRU(embedding_dim + hidden_dim, hidden_dim, batch_first=True)\n",
    "        \n",
    "        #dropout\n",
    "        self.dropout = nn.Dropout(p=DROPOUT_RATE)\n",
    "        \n",
    "        #fully connected output layer \n",
    "        self.out_layer = nn.Linear(embedding_dim + hidden_dim * 2, output_dim)\n",
    "\n",
    "    \n",
    "    def forward(self, tgt_input, hidden_state, enc_outputs):\n",
    "        #add dim to input - ONLY if tgt_input is 1D beforehand\n",
    "        if tgt_input.dim() == 1:\n",
    "            tgt_input = tgt_input.unsqueeze(1)\n",
    "        \n",
    "        #embed\n",
    "        embedded = self.embedding(tgt_input.to(device))\n",
    "        \n",
    "        #dropping out\n",
    "        embedded = self.dropout(embedded)\n",
    "        \n",
    "        #get attention weights - which parts of enc_output to focus on\n",
    "        attn_weights = self.attention(hidden_state[-1], enc_outputs).unsqueeze(1)\n",
    "        \n",
    "        #get context vector - shows decoder which parts to focus on\n",
    "        context = torch.bmm(attn_weights, enc_outputs)\n",
    "        \n",
    "        #get input for GRU\n",
    "        gru_input = torch.cat((embedded, context), dim=2)\n",
    "        \n",
    "        #gru time\n",
    "        output, hidden_state = self.gru(gru_input, hidden_state)\n",
    "        \n",
    "        #get output of output layer (logits for each word in vocab at current time step)\n",
    "        dec_outputs = self.out_layer(torch.cat((output.squeeze(1), context.squeeze(1), embedded.squeeze(1)), dim=1))\n",
    "        \n",
    "        return dec_outputs, hidden_state"
   ]
  },
  {
   "cell_type": "code",
   "execution_count": 14,
   "id": "ff8c0ee1",
   "metadata": {
    "execution": {
     "iopub.execute_input": "2025-05-05T07:48:25.101161Z",
     "iopub.status.busy": "2025-05-05T07:48:25.100960Z",
     "iopub.status.idle": "2025-05-05T07:48:25.106387Z",
     "shell.execute_reply": "2025-05-05T07:48:25.105730Z"
    },
    "papermill": {
     "duration": 0.010604,
     "end_time": "2025-05-05T07:48:25.107443",
     "exception": false,
     "start_time": "2025-05-05T07:48:25.096839",
     "status": "completed"
    },
    "tags": []
   },
   "outputs": [],
   "source": [
    "#seq2seq class (pytorch)\n",
    "class Seq2Seq(nn.Module):\n",
    "    def __init__(self, encoder, decoder):\n",
    "        super().__init__()\n",
    "        \n",
    "        #init encoder and decoder\n",
    "        self.encoder = encoder\n",
    "        self.decoder = decoder\n",
    "\n",
    "    \n",
    "    def forward(self, src, tgt, teacher_forcing_ratio=0.5):\n",
    "        #init\n",
    "        batch_size = src.size(0)\n",
    "        tgt_len = tgt.size(1)\n",
    "        tgt_vocab_size = self.decoder.output_dim\n",
    "        outputs = torch.zeros(batch_size, tgt_len, tgt_vocab_size).to(device)\n",
    "\n",
    "        #do encoder\n",
    "        enc_outputs, hidden_state = self.encoder(src)\n",
    "        \n",
    "        #get tgt input\n",
    "        tgt_input = tgt[:, 0].to(device)\n",
    "        \n",
    "        #do decoder\n",
    "        for t in range(1, tgt_len):\n",
    "            #get decoder output & store it\n",
    "            dec_output, hidden_state = self.decoder(tgt_input, hidden_state, enc_outputs)\n",
    "            outputs[:, t] = dec_output\n",
    "            \n",
    "            #decide whether teacher forces or not\n",
    "            teacher_force = random.random() < teacher_forcing_ratio\n",
    "            \n",
    "            #get top predicted token\n",
    "            pred_token = dec_output.argmax(1)\n",
    "            \n",
    "            #use either true target token or model predicted token as input\n",
    "            tgt_input = tgt[:, t].to(device) if teacher_force else pred_token.to(device)\n",
    "\n",
    "        return outputs"
   ]
  },
  {
   "cell_type": "code",
   "execution_count": 15,
   "id": "b5a02e55",
   "metadata": {
    "execution": {
     "iopub.execute_input": "2025-05-05T07:48:25.115498Z",
     "iopub.status.busy": "2025-05-05T07:48:25.115286Z",
     "iopub.status.idle": "2025-05-05T07:48:29.507512Z",
     "shell.execute_reply": "2025-05-05T07:48:29.506678Z"
    },
    "papermill": {
     "duration": 4.397983,
     "end_time": "2025-05-05T07:48:29.508909",
     "exception": false,
     "start_time": "2025-05-05T07:48:25.110926",
     "status": "completed"
    },
    "tags": []
   },
   "outputs": [],
   "source": [
    "#load raw dataset\n",
    "train_df = pd.read_csv(\"./data/train_data.csv\")\n",
    "valid_df = pd.read_csv(\"./data/valid_data.csv\")\n",
    "\n",
    "#build vocab off of training data - including inverse_vocab for target (for making readable at end)\n",
    "src_vocab = build_vocab(train_df[\"negative_thought\"])\n",
    "tgt_vocab = build_vocab(train_df[\"reframed_thought\"])\n",
    "inv_tgt_vocab = {v: k for k, v in tgt_vocab.items()}\n",
    "\n",
    "#wrap in dataset\n",
    "train_dataset = ThoughtDataset(train_df, src_vocab, tgt_vocab)\n",
    "valid_dataset = ThoughtDataset(valid_df, src_vocab, tgt_vocab)\n",
    "\n",
    "#use DataLoader\n",
    "train_loader = DataLoader(train_dataset, batch_size=BATCH_SIZE, shuffle=True, collate_fn=pad_batch)\n",
    "valid_loader = DataLoader(valid_dataset, batch_size=BATCH_SIZE, shuffle=False, collate_fn=pad_batch)"
   ]
  },
  {
   "cell_type": "code",
   "execution_count": 16,
   "id": "f3cac4bc",
   "metadata": {
    "execution": {
     "iopub.execute_input": "2025-05-05T07:48:29.517242Z",
     "iopub.status.busy": "2025-05-05T07:48:29.517027Z",
     "iopub.status.idle": "2025-05-05T07:48:34.240450Z",
     "shell.execute_reply": "2025-05-05T07:48:34.239848Z"
    },
    "papermill": {
     "duration": 4.729069,
     "end_time": "2025-05-05T07:48:34.241834",
     "exception": false,
     "start_time": "2025-05-05T07:48:29.512765",
     "status": "completed"
    },
    "tags": []
   },
   "outputs": [],
   "source": [
    "#init model - encoder, attention mechanism, decoder, and entire seq2seq model\n",
    "encoder = Encoder(len(src_vocab), EMBED_SIZE, HIDDEN_SIZE)\n",
    "attention = Attention(HIDDEN_SIZE)\n",
    "decoder = Decoder(len(tgt_vocab), EMBED_SIZE, HIDDEN_SIZE, attention)\n",
    "model = Seq2Seq(encoder, decoder).to(device)\n",
    "\n",
    "#get optimizer and loss function\n",
    "optimizer = torch.optim.Adam(model.parameters(), lr=LEARNING_RATE) #adam optimizer\n",
    "criterion = nn.CrossEntropyLoss(ignore_index=PAD_VAL) #ignore padding tokens for loss calc"
   ]
  },
  {
   "cell_type": "markdown",
   "id": "d5a1c233",
   "metadata": {
    "papermill": {
     "duration": 0.003789,
     "end_time": "2025-05-05T07:48:34.249663",
     "exception": false,
     "start_time": "2025-05-05T07:48:34.245874",
     "status": "completed"
    },
    "tags": []
   },
   "source": [
    "# Model Training"
   ]
  },
  {
   "cell_type": "code",
   "execution_count": 17,
   "id": "255d7e01",
   "metadata": {
    "execution": {
     "iopub.execute_input": "2025-05-05T07:48:34.257876Z",
     "iopub.status.busy": "2025-05-05T07:48:34.257566Z",
     "iopub.status.idle": "2025-05-05T08:20:36.679206Z",
     "shell.execute_reply": "2025-05-05T08:20:36.678338Z"
    },
    "papermill": {
     "duration": 1922.427397,
     "end_time": "2025-05-05T08:20:36.680650",
     "exception": false,
     "start_time": "2025-05-05T07:48:34.253253",
     "status": "completed"
    },
    "tags": []
   },
   "outputs": [
    {
     "name": "stdout",
     "output_type": "stream",
     "text": [
      "Epoch 1, Training Loss: 5.9060\n",
      "Epoch 1, Validation Loss: 5.6701\n",
      "Epoch 1 summary:\n",
      "  Training time: 88.00 seconds\n",
      "  Validation time: 13.09 seconds\n",
      "  Total epoch time: 101.09 seconds\n",
      "\n",
      "Validation Loss improved!\n",
      "Epoch 2, Training Loss: 5.2763\n",
      "Epoch 2, Validation Loss: 5.6401\n",
      "Epoch 2 summary:\n",
      "  Training time: 87.62 seconds\n",
      "  Validation time: 13.08 seconds\n",
      "  Total epoch time: 100.70 seconds\n",
      "\n",
      "Validation Loss improved!\n",
      "Epoch 3, Training Loss: 5.1053\n",
      "Epoch 3, Validation Loss: 5.6021\n",
      "Epoch 3 summary:\n",
      "  Training time: 88.30 seconds\n",
      "  Validation time: 13.19 seconds\n",
      "  Total epoch time: 101.49 seconds\n",
      "\n",
      "Validation Loss improved!\n",
      "Epoch 4, Training Loss: 4.9167\n",
      "Epoch 4, Validation Loss: 5.4126\n",
      "Epoch 4 summary:\n",
      "  Training time: 87.63 seconds\n",
      "  Validation time: 13.23 seconds\n",
      "  Total epoch time: 100.86 seconds\n",
      "\n",
      "Validation Loss improved!\n",
      "Epoch 5, Training Loss: 4.6535\n",
      "Epoch 5, Validation Loss: 5.2197\n",
      "Epoch 5 summary:\n",
      "  Training time: 87.40 seconds\n",
      "  Validation time: 13.29 seconds\n",
      "  Total epoch time: 100.69 seconds\n",
      "\n",
      "Validation Loss improved!\n",
      "Epoch 6, Training Loss: 4.4488\n",
      "Epoch 6, Validation Loss: 5.0811\n",
      "Epoch 6 summary:\n",
      "  Training time: 87.66 seconds\n",
      "  Validation time: 13.22 seconds\n",
      "  Total epoch time: 100.87 seconds\n",
      "\n",
      "Validation Loss improved!\n",
      "Epoch 7, Training Loss: 4.2913\n",
      "Epoch 7, Validation Loss: 5.0119\n",
      "Epoch 7 summary:\n",
      "  Training time: 87.51 seconds\n",
      "  Validation time: 13.07 seconds\n",
      "  Total epoch time: 100.58 seconds\n",
      "\n",
      "Validation Loss improved!\n",
      "Epoch 8, Training Loss: 4.1467\n",
      "Epoch 8, Validation Loss: 4.9327\n",
      "Epoch 8 summary:\n",
      "  Training time: 87.39 seconds\n",
      "  Validation time: 13.05 seconds\n",
      "  Total epoch time: 100.44 seconds\n",
      "\n",
      "Validation Loss improved!\n",
      "Epoch 9, Training Loss: 4.0321\n",
      "Epoch 9, Validation Loss: 4.9133\n",
      "Epoch 9 summary:\n",
      "  Training time: 87.45 seconds\n",
      "  Validation time: 13.05 seconds\n",
      "  Total epoch time: 100.50 seconds\n",
      "\n",
      "Validation Loss improved!\n",
      "Epoch 10, Training Loss: 3.9444\n",
      "Epoch 10, Validation Loss: 4.8706\n",
      "Epoch 10 summary:\n",
      "  Training time: 87.61 seconds\n",
      "  Validation time: 13.21 seconds\n",
      "  Total epoch time: 100.83 seconds\n",
      "\n",
      "Validation Loss improved!\n",
      "Epoch 11, Training Loss: 3.8590\n",
      "Epoch 11, Validation Loss: 4.8472\n",
      "Epoch 11 summary:\n",
      "  Training time: 87.74 seconds\n",
      "  Validation time: 13.27 seconds\n",
      "  Total epoch time: 101.01 seconds\n",
      "\n",
      "Validation Loss improved!\n",
      "Epoch 12, Training Loss: 3.8028\n",
      "Epoch 12, Validation Loss: 4.8286\n",
      "Epoch 12 summary:\n",
      "  Training time: 87.41 seconds\n",
      "  Validation time: 13.16 seconds\n",
      "  Total epoch time: 100.58 seconds\n",
      "\n",
      "Validation Loss improved!\n",
      "Epoch 13, Training Loss: 3.7309\n",
      "Epoch 13, Validation Loss: 4.8385\n",
      "Epoch 13 summary:\n",
      "  Training time: 87.05 seconds\n",
      "  Validation time: 13.12 seconds\n",
      "  Total epoch time: 100.17 seconds\n",
      "\n",
      "No Validation Loss Improvement. Num of epochs with no improvement: 1/3.\n",
      "Epoch 14, Training Loss: 3.6825\n",
      "Epoch 14, Validation Loss: 4.8135\n",
      "Epoch 14 summary:\n",
      "  Training time: 87.37 seconds\n",
      "  Validation time: 13.10 seconds\n",
      "  Total epoch time: 100.46 seconds\n",
      "\n",
      "Validation Loss improved!\n",
      "Epoch 15, Training Loss: 3.6260\n",
      "Epoch 15, Validation Loss: 4.7957\n",
      "Epoch 15 summary:\n",
      "  Training time: 87.32 seconds\n",
      "  Validation time: 13.12 seconds\n",
      "  Total epoch time: 100.44 seconds\n",
      "\n",
      "Validation Loss improved!\n",
      "Epoch 16, Training Loss: 3.5863\n",
      "Epoch 16, Validation Loss: 4.7730\n",
      "Epoch 16 summary:\n",
      "  Training time: 86.95 seconds\n",
      "  Validation time: 13.15 seconds\n",
      "  Total epoch time: 100.10 seconds\n",
      "\n",
      "Validation Loss improved!\n",
      "Epoch 17, Training Loss: 3.5382\n",
      "Epoch 17, Validation Loss: 4.7814\n",
      "Epoch 17 summary:\n",
      "  Training time: 87.35 seconds\n",
      "  Validation time: 13.14 seconds\n",
      "  Total epoch time: 100.49 seconds\n",
      "\n",
      "No Validation Loss Improvement. Num of epochs with no improvement: 1/3.\n",
      "Epoch 18, Training Loss: 3.5112\n",
      "Epoch 18, Validation Loss: 4.7736\n",
      "Epoch 18 summary:\n",
      "  Training time: 87.87 seconds\n",
      "  Validation time: 13.09 seconds\n",
      "  Total epoch time: 100.96 seconds\n",
      "\n",
      "No Validation Loss Improvement. Num of epochs with no improvement: 2/3.\n",
      "Epoch 19, Training Loss: 3.4655\n",
      "Epoch 19, Validation Loss: 4.7808\n",
      "Epoch 19 summary:\n",
      "  Training time: 87.69 seconds\n",
      "  Validation time: 13.14 seconds\n",
      "  Total epoch time: 100.83 seconds\n",
      "\n",
      "No Validation Loss Improvement. Num of epochs with no improvement: 3/3.\n",
      "Early stopping triggered: No improvement in Validation Loss for 3 epochs.\n"
     ]
    }
   ],
   "source": [
    "#for early stop\n",
    "best_valid_loss = float(\"inf\") #init with high valid loss\n",
    "stagnating_epochs = 0 #epoch num with no improvement\n",
    "\n",
    "#training\n",
    "for epoch in range(EPOCHS):\n",
    "    epoch_start = time.time() #how long whole epoch takes\n",
    "    train_start = time.time() #how long training takes\n",
    "    model.train() #training mode\n",
    "    train_loss = 0 #init loss\n",
    "    \n",
    "    for src, tgt, _ in train_loader:\n",
    "        optimizer.zero_grad() #clear optimized tensor gradients that accumulate in backward pass\n",
    "        \n",
    "        output = model(src, tgt, TEACHER_FORCING_RATIO) #get output token\n",
    "        output_dim = output.shape[-1]\n",
    "        output = output[:, 1:].reshape(-1, output_dim)\n",
    "        tgt = tgt[:, 1:].reshape(-1) #get true token\n",
    "        \n",
    "        loss = criterion(output, tgt) #compare (loss time)\n",
    "        loss.backward() #backpropagation!!!\n",
    "        optimizer.step() #update weights\n",
    "        train_loss += loss.item() #add to loss\n",
    "        \n",
    "    print(f\"Epoch {epoch+1}, Training Loss: {train_loss/len(train_loader):.4f}\")\n",
    "    train_end = time.time()\n",
    "\n",
    "    #validation loop fr\n",
    "    valid_start = time.time() #how long validation takes\n",
    "    model.eval() #bc we're predicting rn\n",
    "    valid_loss = 0\n",
    "\n",
    "    with torch.no_grad():\n",
    "        for src, tgt, _ in valid_loader:\n",
    "            #same thing but no teacher forcing and no backprop/updating weights\n",
    "            output = model(src, tgt, 0)\n",
    "            output_dim = output.shape[-1]\n",
    "            output = output[:, 1:].reshape(-1, output_dim)\n",
    "            tgt = tgt[:, 1:].reshape(-1)\n",
    "            \n",
    "            loss = criterion(output, tgt)\n",
    "            valid_loss += loss.item() #add to loss\n",
    "\n",
    "    print(f\"Epoch {epoch+1}, Validation Loss: {valid_loss/len(valid_loader):.4f}\")\n",
    "    valid_end = time.time()\n",
    "    epoch_end = time.time()\n",
    "\n",
    "    print(f\"Epoch {epoch + 1} summary:\")\n",
    "    print(f\"  Training time: {train_end - train_start:.2f} seconds\")\n",
    "    print(f\"  Validation time: {valid_end - valid_start:.2f} seconds\")\n",
    "    print(f\"  Total epoch time: {epoch_end - epoch_start:.2f} seconds\\n\")\n",
    "\n",
    "    #early stop check! (if better valid loss, update. otherwise, update stagnating epochs) \n",
    "    if valid_loss/len(valid_loader) < best_valid_loss:\n",
    "        best_valid_loss = valid_loss/len(valid_loader) \n",
    "        stagnating_epochs = 0 #reset\n",
    "        print(f\"Validation Loss improved!\")\n",
    "        #save model with best validation loss (in case of early stop)\n",
    "        torch.save({\n",
    "            \"epoch\": epoch,\n",
    "            \"model_state_dict\": model.state_dict(),\n",
    "            \"optimizer_state_dict\": optimizer.state_dict(),\n",
    "            \"loss\": loss.item()\n",
    "        }, os.path.join(final_dir, \"best_model.pth\"))\n",
    "    else:\n",
    "        stagnating_epochs += 1 #increase\n",
    "        print(f\"No Validation Loss Improvement. Num of epochs with no improvement: {stagnating_epochs}/{PATIENCE}.\")\n",
    "\n",
    "    #if patience reached, end\n",
    "    if stagnating_epochs >= PATIENCE:\n",
    "        print(f\"Early stopping triggered: No improvement in Validation Loss for {stagnating_epochs} epochs.\")\n",
    "        break"
   ]
  },
  {
   "cell_type": "markdown",
   "id": "3c184510",
   "metadata": {
    "papermill": {
     "duration": 0.004969,
     "end_time": "2025-05-05T08:20:36.691176",
     "exception": false,
     "start_time": "2025-05-05T08:20:36.686207",
     "status": "completed"
    },
    "tags": []
   },
   "source": [
    "# Model Generation"
   ]
  },
  {
   "cell_type": "code",
   "execution_count": 18,
   "id": "7eded796",
   "metadata": {
    "execution": {
     "iopub.execute_input": "2025-05-05T08:20:36.703367Z",
     "iopub.status.busy": "2025-05-05T08:20:36.703120Z",
     "iopub.status.idle": "2025-05-05T08:20:36.904665Z",
     "shell.execute_reply": "2025-05-05T08:20:36.903819Z"
    },
    "papermill": {
     "duration": 0.209629,
     "end_time": "2025-05-05T08:20:36.905787",
     "exception": false,
     "start_time": "2025-05-05T08:20:36.696158",
     "status": "completed"
    },
    "tags": []
   },
   "outputs": [
    {
     "name": "stderr",
     "output_type": "stream",
     "text": [
      "/tmp/ipykernel_19/668548706.py:2: FutureWarning: You are using `torch.load` with `weights_only=False` (the current default value), which uses the default pickle module implicitly. It is possible to construct malicious pickle data which will execute arbitrary code during unpickling (See https://github.com/pytorch/pytorch/blob/main/SECURITY.md#untrusted-models for more details). In a future release, the default value for `weights_only` will be flipped to `True`. This limits the functions that could be executed during unpickling. Arbitrary objects will no longer be allowed to be loaded via this mode unless they are explicitly allowlisted by the user via `torch.serialization.add_safe_globals`. We recommend you start setting `weights_only=True` for any use case where you don't have full control of the loaded file. Please open an issue on GitHub for any issues related to this experimental feature.\n",
      "  checkpoint = torch.load(os.path.join(final_dir, \"best_model.pth\")) #load best model (in case early stopping or no valid loss improvement at the end)\n"
     ]
    },
    {
     "data": {
      "text/plain": [
       "<All keys matched successfully>"
      ]
     },
     "execution_count": 18,
     "metadata": {},
     "output_type": "execute_result"
    }
   ],
   "source": [
    "#evaluation\n",
    "checkpoint = torch.load(os.path.join(final_dir, \"best_model.pth\")) #load best model (in case early stopping or no valid loss improvement at the end)\n",
    "model.load_state_dict(checkpoint['model_state_dict']) #load model params into the model"
   ]
  },
  {
   "cell_type": "code",
   "execution_count": 19,
   "id": "feec1ff2",
   "metadata": {
    "execution": {
     "iopub.execute_input": "2025-05-05T08:20:36.918048Z",
     "iopub.status.busy": "2025-05-05T08:20:36.917644Z",
     "iopub.status.idle": "2025-05-05T08:20:36.962390Z",
     "shell.execute_reply": "2025-05-05T08:20:36.961647Z"
    },
    "papermill": {
     "duration": 0.051812,
     "end_time": "2025-05-05T08:20:36.963600",
     "exception": false,
     "start_time": "2025-05-05T08:20:36.911788",
     "status": "completed"
    },
    "tags": []
   },
   "outputs": [],
   "source": [
    "#load test data\n",
    "test_df = pd.read_csv(\"./data/test_data.csv\")\n",
    "\n",
    "#wrap in dataset and use in DataLoader\n",
    "test_dataset = ThoughtDataset(test_df, src_vocab, tgt_vocab)\n",
    "test_loader = DataLoader(test_dataset, batch_size=1, shuffle=False, collate_fn=pad_batch)"
   ]
  },
  {
   "cell_type": "code",
   "execution_count": null,
   "id": "977aa3b9",
   "metadata": {
    "papermill": {
     "duration": 50.546204,
     "end_time": "2025-05-05T08:21:27.565223",
     "exception": false,
     "start_time": "2025-05-05T08:20:37.019019",
     "status": "completed"
    },
    "tags": []
   },
   "outputs": [],
   "source": [
    "#init\n",
    "generated_texts = []\n",
    "true_texts = []\n",
    "original_texts = []\n",
    "indices = []\n",
    "\n",
    "test_start = time.time() #how long testing takes\n",
    "model.eval() #eval time\n",
    "with torch.no_grad(): #no gradients computed for predict\n",
    "    \n",
    "    for src, tgt, idx in test_loader:\n",
    "        #encode time (use final state for input for predict)\n",
    "        enc_outputs, hidden_state = model.encoder(src)\n",
    "        \n",
    "        #get target input for decoding - and batch size so first dim matches up\n",
    "        batch_size = src.size(0)\n",
    "        tgt_input = torch.tensor([tgt_vocab[sos_token]] * batch_size).to(device)\n",
    "        outputs = [[] for _ in range(batch_size)] #init proper size\n",
    "        finished = [False] * batch_size\n",
    "        \n",
    "        for _ in range(MAX_LEN):\n",
    "            #decode time\n",
    "            output, hidden_state = model.decoder(tgt_input, hidden_state, enc_outputs)\n",
    "            output = output.squeeze(1) #not needed, but good just in case\n",
    "            \n",
    "            #get top 1 pred token for each one\n",
    "            pred_tokens = output.argmax(dim=1)\n",
    "\n",
    "            for i in range(batch_size):\n",
    "                if not finished[i]:\n",
    "                    token = pred_tokens[i].item()\n",
    "                    if token == tgt_vocab[eos_token]: #if end of sequence\n",
    "                        finished[i] = True\n",
    "                    else:\n",
    "                        outputs[i].append(token) #add to output\n",
    "            \n",
    "            if all(finished):\n",
    "                break\n",
    "                \n",
    "            tgt_input = pred_tokens.unsqueeze(1)\n",
    "\n",
    "        #decode into readable text - generated text = pred reframe\n",
    "        generated = \" \".join([inv_tgt_vocab.get(tok, '') for tok in outputs[i]])\n",
    "        \n",
    "        #true text = dataset reframe\n",
    "        true = \" \".join([inv_tgt_vocab.get(tok.item(), '') for tok in tgt[0] if tok.item() not in [tgt_vocab[pad_token], tgt_vocab[sos_token], tgt_vocab[eos_token]]])\n",
    "        \n",
    "        #original text = negative thought (kept just in case tokenization/reconstruction changes it in meaningful way, good to keep a copy in case)\n",
    "        original = \" \".join([list(src_vocab.keys())[list(src_vocab.values()).index(tok.item())] for tok in src[0] if tok.item() != PAD_VAL])\n",
    "        \n",
    "        generated_texts.append(generated)\n",
    "        true_texts.append(true)\n",
    "        original_texts.append(original)\n",
    "        indices.append(idx)\n",
    "\n",
    "test_end = time.time()\n",
    "print(f\"Testing time: {test_end - test_start:.2f} seconds\")"
   ]
  },
  {
   "cell_type": "code",
   "execution_count": 21,
   "id": "2b331ca8",
   "metadata": {
    "execution": {
     "iopub.execute_input": "2025-05-05T08:21:27.674387Z",
     "iopub.status.busy": "2025-05-05T08:21:27.674088Z",
     "iopub.status.idle": "2025-05-05T08:21:27.709573Z",
     "shell.execute_reply": "2025-05-05T08:21:27.708845Z"
    },
    "papermill": {
     "duration": 0.09106,
     "end_time": "2025-05-05T08:21:27.710750",
     "exception": false,
     "start_time": "2025-05-05T08:21:27.619690",
     "status": "completed"
    },
    "tags": []
   },
   "outputs": [],
   "source": [
    "#save to csv\n",
    "output_df = pd.DataFrame({\n",
    "    \"Original_Index\": indices,\n",
    "    \"Original_Text\": original_texts,\n",
    "    \"True_Text\": true_texts,\n",
    "    \"Generated_Text\": generated_texts\n",
    "})\n",
    "#sort by index to restore original csv order first\n",
    "output_df = output_df.sort_values(by=\"Original_Index\").reset_index(drop=True)\n",
    "output_df.drop(columns=[\"Original_Index\"], inplace=True) #not needed after sort\n",
    "output_df.to_csv(model_outputs_dir + \"/generated_output_seq2seq.csv\", index=False)"
   ]
  }
 ],
 "metadata": {
  "kaggle": {
   "accelerator": "none",
   "dataSources": [
    {
     "datasetId": 7315971,
     "sourceId": 11658077,
     "sourceType": "datasetVersion"
    }
   ],
   "dockerImageVersionId": 31011,
   "isGpuEnabled": false,
   "isInternetEnabled": true,
   "language": "python",
   "sourceType": "notebook"
  },
  "kernelspec": {
   "display_name": "Python 3 (ipykernel)",
   "language": "python",
   "name": "python3"
  },
  "language_info": {
   "codemirror_mode": {
    "name": "ipython",
    "version": 3
   },
   "file_extension": ".py",
   "mimetype": "text/x-python",
   "name": "python",
   "nbconvert_exporter": "python",
   "pygments_lexer": "ipython3",
   "version": "3.10.11"
  },
  "papermill": {
   "default_parameters": {},
   "duration": 1996.080479,
   "end_time": "2025-05-05T08:21:30.127827",
   "environment_variables": {},
   "exception": null,
   "input_path": "__notebook__.ipynb",
   "output_path": "__notebook__.ipynb",
   "parameters": {},
   "start_time": "2025-05-05T07:48:14.047348",
   "version": "2.6.0"
  }
 },
 "nbformat": 4,
 "nbformat_minor": 5
}
