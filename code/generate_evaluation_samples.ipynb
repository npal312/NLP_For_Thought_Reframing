{
 "cells": [
  {
   "cell_type": "markdown",
   "id": "8afdc4c9-e2c9-4cc6-a612-21ce105d4b28",
   "metadata": {},
   "source": [
    "**imports**"
   ]
  },
  {
   "cell_type": "code",
   "execution_count": 14,
   "id": "43782c82-e502-4af4-9715-dccc27b22293",
   "metadata": {},
   "outputs": [],
   "source": [
    "import pandas as pd\n",
    "import random"
   ]
  },
  {
   "cell_type": "markdown",
   "id": "5e7ccfea-bd4b-460c-8659-3cebaa875b3e",
   "metadata": {},
   "source": [
    "# Code"
   ]
  },
  {
   "cell_type": "code",
   "execution_count": 15,
   "id": "fa530027-4ddf-47c2-90d6-d7ff1ee1753f",
   "metadata": {},
   "outputs": [],
   "source": [
    "#get dir\n",
    "outputs_dir = \"./model_outputs/\"\n",
    "\n",
    "#set random seed - reproducibility\n",
    "random.seed(213)"
   ]
  },
  {
   "cell_type": "code",
   "execution_count": 17,
   "id": "9390b2b5-cec0-4d5a-a354-e92384f62477",
   "metadata": {},
   "outputs": [],
   "source": [
    "#open test data\n",
    "test_data = pd.read_csv(\"./data/test_data.csv\")\n",
    "\n",
    "#get 26 random indices from test data length (around 1% of data)\n",
    "random_indices = random.sample(range(len(test_data)), 26)\n",
    "\n",
    "#file names (why not hard code in lol)\n",
    "names = [\"generated_output_gru.csv\", \"generated_output_gru_non_deterministic.csv\", \"generated_output_seq2seq.csv\",\n",
    "         \"generated_output_seq2seq_non_deterministic.csv\", \"generated_output_t5.csv\", \"generated_output_t5_non_deterministic.csv\",\n",
    "         \"generated_output_t5_all.csv\", \"generated_output_t5_all_non_deterministic.csv\"]\n",
    "\n",
    "#open each file as df and store in list\n",
    "dataframes = [pd.read_csv(outputs_dir + name) for name in names]\n",
    "\n",
    "#collect reframed thoughts from each file using the same indices\n",
    "collected_texts = [] #init\n",
    "\n",
    "for dataframe in dataframes:\n",
    "    selected = dataframe.loc[random_indices, \"Generated_Text\"].reset_index(drop=True)\n",
    "    collected_texts.append(selected)\n",
    "\n",
    "#combine into one dataframe with one column per model\n",
    "generated_text_df = pd.concat(collected_texts, axis=1)\n",
    "generated_text_df.columns = [name[17:-4]for name in names] #remove \"generated_output_\" and \".csv\"\n",
    "\n",
    "#get negative and reframed thoughts to put in front of csv file (compare to outputs)\n",
    "control_columns = test_data.loc[random_indices, [\"negative_thought\", \"reframed_thought\"]].reset_index(drop=True)\n",
    "\n",
    "#add to front of dataframe\n",
    "final_dataframe = pd.concat([control_columns, generated_text_df], axis=1)\n",
    "\n",
    "#save to csv\n",
    "final_dataframe.to_csv(\"combined_generated_outputs.csv\", index=False)"
   ]
  }
 ],
 "metadata": {
  "kernelspec": {
   "display_name": "Python 3 (ipykernel)",
   "language": "python",
   "name": "python3"
  },
  "language_info": {
   "codemirror_mode": {
    "name": "ipython",
    "version": 3
   },
   "file_extension": ".py",
   "mimetype": "text/x-python",
   "name": "python",
   "nbconvert_exporter": "python",
   "pygments_lexer": "ipython3",
   "version": "3.10.11"
  }
 },
 "nbformat": 4,
 "nbformat_minor": 5
}
